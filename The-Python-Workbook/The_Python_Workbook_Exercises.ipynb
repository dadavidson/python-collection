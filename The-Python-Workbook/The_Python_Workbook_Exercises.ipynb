{
  "nbformat": 4,
  "nbformat_minor": 0,
  "metadata": {
    "colab": {
      "provenance": [],
      "authorship_tag": "ABX9TyNXjUKiDFpalnSLu7XrKOz9",
      "include_colab_link": true
    },
    "kernelspec": {
      "name": "python3",
      "display_name": "Python 3"
    },
    "language_info": {
      "name": "python"
    }
  },
  "cells": [
    {
      "cell_type": "markdown",
      "metadata": {
        "id": "view-in-github",
        "colab_type": "text"
      },
      "source": [
        "<a href=\"https://colab.research.google.com/github/dadavidson/python-collection/blob/main/The-Python-Workbook/The_Python_Workbook_Exercises.ipynb\" target=\"_parent\"><img src=\"https://colab.research.google.com/assets/colab-badge.svg\" alt=\"Open In Colab\"/></a>"
      ]
    },
    {
      "cell_type": "markdown",
      "source": [
        "# Exercise 1: Mailing Address"
      ],
      "metadata": {
        "id": "ZdkTaddzYXyR"
      }
    },
    {
      "cell_type": "code",
      "source": [
        "print('''\n",
        "  Tony Soprano\n",
        "  Bada Bing!\n",
        "  123 Main Street\n",
        "  New Jersey, USA 12345\n",
        "''')"
      ],
      "metadata": {
        "colab": {
          "base_uri": "https://localhost:8080/"
        },
        "id": "TzUA7_23YdP_",
        "outputId": "fda05d20-c195-40e1-9f26-0c759c29b505"
      },
      "execution_count": null,
      "outputs": [
        {
          "output_type": "stream",
          "name": "stdout",
          "text": [
            "\n",
            "  John Doe\n",
            "  ABC Company\n",
            "  123 Main Street\n",
            "  Anytown, USA 12345\n",
            "\n"
          ]
        }
      ]
    },
    {
      "cell_type": "markdown",
      "source": [
        "# Exercise 2: Hello"
      ],
      "metadata": {
        "id": "EJYHeDz1aC_l"
      }
    },
    {
      "cell_type": "code",
      "source": [
        "name = input('Enter your name: ')\n",
        "print(f'Hello, {name}!')"
      ],
      "metadata": {
        "id": "LBOg_e5zaWRf",
        "outputId": "b1a1fdd4-01a8-4949-e355-13fe684b1aeb",
        "colab": {
          "base_uri": "https://localhost:8080/"
        }
      },
      "execution_count": 1,
      "outputs": [
        {
          "output_type": "stream",
          "name": "stdout",
          "text": [
            "Enter your name: Soprano\n",
            "Hello, Soprano!\n"
          ]
        }
      ]
    }
  ]
}