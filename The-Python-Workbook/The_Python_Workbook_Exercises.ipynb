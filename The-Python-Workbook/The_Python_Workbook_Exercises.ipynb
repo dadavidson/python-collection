{
  "nbformat": 4,
  "nbformat_minor": 0,
  "metadata": {
    "colab": {
      "provenance": [],
      "authorship_tag": "ABX9TyMX1dsP7Ltf0Ej/Rav6CjMg",
      "include_colab_link": true
    },
    "kernelspec": {
      "name": "python3",
      "display_name": "Python 3"
    },
    "language_info": {
      "name": "python"
    }
  },
  "cells": [
    {
      "cell_type": "markdown",
      "metadata": {
        "id": "view-in-github",
        "colab_type": "text"
      },
      "source": [
        "<a href=\"https://colab.research.google.com/github/dadavidson/python-collection/blob/main/The-Python-Workbook/The_Python_Workbook_Exercises.ipynb\" target=\"_parent\"><img src=\"https://colab.research.google.com/assets/colab-badge.svg\" alt=\"Open In Colab\"/></a>"
      ]
    },
    {
      "cell_type": "markdown",
      "source": [
        "# Exercise 1: Mailing Address"
      ],
      "metadata": {
        "id": "ZdkTaddzYXyR"
      }
    },
    {
      "cell_type": "code",
      "source": [
        "print('''\n",
        "  John Doe\n",
        "  ABC Company\n",
        "  123 Main Street\n",
        "  Anytown, USA 12345\n",
        "''')"
      ],
      "metadata": {
        "colab": {
          "base_uri": "https://localhost:8080/"
        },
        "id": "TzUA7_23YdP_",
        "outputId": "fda05d20-c195-40e1-9f26-0c759c29b505"
      },
      "execution_count": 2,
      "outputs": [
        {
          "output_type": "stream",
          "name": "stdout",
          "text": [
            "\n",
            "  John Doe\n",
            "  ABC Company\n",
            "  123 Main Street\n",
            "  Anytown, USA 12345\n",
            "\n"
          ]
        }
      ]
    }
  ]
}