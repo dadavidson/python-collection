{
  "nbformat": 4,
  "nbformat_minor": 0,
  "metadata": {
    "colab": {
      "provenance": [],
      "authorship_tag": "ABX9TyPqG0W6Zh0kLVUmgF7p6ot5",
      "include_colab_link": true
    },
    "kernelspec": {
      "name": "python3",
      "display_name": "Python 3"
    },
    "language_info": {
      "name": "python"
    }
  },
  "cells": [
    {
      "cell_type": "markdown",
      "metadata": {
        "id": "view-in-github",
        "colab_type": "text"
      },
      "source": [
        "<a href=\"https://colab.research.google.com/github/dadavidson/python-collection/blob/main/The-Python-Workbook/The_Python_Workbook_Exercises.ipynb\" target=\"_parent\"><img src=\"https://colab.research.google.com/assets/colab-badge.svg\" alt=\"Open In Colab\"/></a>"
      ]
    },
    {
      "cell_type": "markdown",
      "source": [
        "# Exercise 1: Mailing Address"
      ],
      "metadata": {
        "id": "ZdkTaddzYXyR"
      }
    },
    {
      "cell_type": "code",
      "source": [
        "print('''\n",
        "  Tony Soprano\n",
        "  Bada Bing!\n",
        "  123 Main Street\n",
        "  New Jersey, USA 12345\n",
        "''')"
      ],
      "metadata": {
        "colab": {
          "base_uri": "https://localhost:8080/"
        },
        "id": "TzUA7_23YdP_",
        "outputId": "fda05d20-c195-40e1-9f26-0c759c29b505"
      },
      "execution_count": null,
      "outputs": [
        {
          "output_type": "stream",
          "name": "stdout",
          "text": [
            "\n",
            "  John Doe\n",
            "  ABC Company\n",
            "  123 Main Street\n",
            "  Anytown, USA 12345\n",
            "\n"
          ]
        }
      ]
    },
    {
      "cell_type": "markdown",
      "source": [
        "# Exercise 2: Hello"
      ],
      "metadata": {
        "id": "EJYHeDz1aC_l"
      }
    },
    {
      "cell_type": "code",
      "source": [
        "name = input('Enter your name: ')\n",
        "print(f'Hello, {name}!')"
      ],
      "metadata": {
        "colab": {
          "base_uri": "https://localhost:8080/"
        },
        "id": "LBOg_e5zaWRf",
        "outputId": "b1a1fdd4-01a8-4949-e355-13fe684b1aeb"
      },
      "execution_count": 1,
      "outputs": [
        {
          "output_type": "stream",
          "name": "stdout",
          "text": [
            "Enter your name: Soprano\n",
            "Hello, Soprano!\n"
          ]
        }
      ]
    },
    {
      "cell_type": "markdown",
      "source": [
        "# Exercise 3: Area of a Room"
      ],
      "metadata": {
        "id": "C7rTsE_BgrFM"
      }
    },
    {
      "cell_type": "code",
      "source": [
        "length = float(input('Enter the length of the room in feet: '))\n",
        "width = float(input('Enter the width of the room in feet: '))\n",
        "area = length * width\n",
        "print(f'The area of the room is {area} square feet.')"
      ],
      "metadata": {
        "colab": {
          "base_uri": "https://localhost:8080/"
        },
        "id": "EHpdrLmTgvIy",
        "outputId": "10c278d3-fef4-41f5-97d3-002b6215579f"
      },
      "execution_count": 1,
      "outputs": [
        {
          "output_type": "stream",
          "name": "stdout",
          "text": [
            "Enter the length of the room in feet: 10\n",
            "Enter the width of the room in feet: 4\n",
            "The area of the room is 40.0 square feet.\n"
          ]
        }
      ]
    }
  ]
}